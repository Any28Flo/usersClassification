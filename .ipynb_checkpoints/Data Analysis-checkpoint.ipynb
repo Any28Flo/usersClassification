{
 "cells": [
  {
   "cell_type": "code",
   "execution_count": 20,
   "metadata": {},
   "outputs": [],
   "source": [
    "import pandas as pd\n",
    "import seaborn as sns\n",
    "import matplotlib.pyplot as plt"
   ]
  },
  {
   "cell_type": "code",
   "execution_count": 4,
   "metadata": {},
   "outputs": [],
   "source": [
    "filename = 'WA_Fn-UseC_-Marketing-Customer-Value-Analysis.csv'\n",
    "data = pd.read_csv(filename)"
   ]
  },
  {
   "cell_type": "code",
   "execution_count": 5,
   "metadata": {},
   "outputs": [
    {
     "data": {
      "text/html": [
       "<div>\n",
       "<style scoped>\n",
       "    .dataframe tbody tr th:only-of-type {\n",
       "        vertical-align: middle;\n",
       "    }\n",
       "\n",
       "    .dataframe tbody tr th {\n",
       "        vertical-align: top;\n",
       "    }\n",
       "\n",
       "    .dataframe thead th {\n",
       "        text-align: right;\n",
       "    }\n",
       "</style>\n",
       "<table border=\"1\" class=\"dataframe\">\n",
       "  <thead>\n",
       "    <tr style=\"text-align: right;\">\n",
       "      <th></th>\n",
       "      <th>Customer</th>\n",
       "      <th>State</th>\n",
       "      <th>Customer Lifetime Value</th>\n",
       "      <th>Response</th>\n",
       "      <th>Coverage</th>\n",
       "      <th>Education</th>\n",
       "      <th>Effective To Date</th>\n",
       "      <th>EmploymentStatus</th>\n",
       "      <th>Gender</th>\n",
       "      <th>Income</th>\n",
       "      <th>...</th>\n",
       "      <th>Months Since Policy Inception</th>\n",
       "      <th>Number of Open Complaints</th>\n",
       "      <th>Number of Policies</th>\n",
       "      <th>Policy Type</th>\n",
       "      <th>Policy</th>\n",
       "      <th>Renew Offer Type</th>\n",
       "      <th>Sales Channel</th>\n",
       "      <th>Total Claim Amount</th>\n",
       "      <th>Vehicle Class</th>\n",
       "      <th>Vehicle Size</th>\n",
       "    </tr>\n",
       "  </thead>\n",
       "  <tbody>\n",
       "    <tr>\n",
       "      <th>0</th>\n",
       "      <td>BU79786</td>\n",
       "      <td>Washington</td>\n",
       "      <td>2763.519279</td>\n",
       "      <td>No</td>\n",
       "      <td>Basic</td>\n",
       "      <td>Bachelor</td>\n",
       "      <td>2/24/11</td>\n",
       "      <td>Employed</td>\n",
       "      <td>F</td>\n",
       "      <td>56274</td>\n",
       "      <td>...</td>\n",
       "      <td>5</td>\n",
       "      <td>0</td>\n",
       "      <td>1</td>\n",
       "      <td>Corporate Auto</td>\n",
       "      <td>Corporate L3</td>\n",
       "      <td>Offer1</td>\n",
       "      <td>Agent</td>\n",
       "      <td>384.811147</td>\n",
       "      <td>Two-Door Car</td>\n",
       "      <td>Medsize</td>\n",
       "    </tr>\n",
       "    <tr>\n",
       "      <th>1</th>\n",
       "      <td>QZ44356</td>\n",
       "      <td>Arizona</td>\n",
       "      <td>6979.535903</td>\n",
       "      <td>No</td>\n",
       "      <td>Extended</td>\n",
       "      <td>Bachelor</td>\n",
       "      <td>1/31/11</td>\n",
       "      <td>Unemployed</td>\n",
       "      <td>F</td>\n",
       "      <td>0</td>\n",
       "      <td>...</td>\n",
       "      <td>42</td>\n",
       "      <td>0</td>\n",
       "      <td>8</td>\n",
       "      <td>Personal Auto</td>\n",
       "      <td>Personal L3</td>\n",
       "      <td>Offer3</td>\n",
       "      <td>Agent</td>\n",
       "      <td>1131.464935</td>\n",
       "      <td>Four-Door Car</td>\n",
       "      <td>Medsize</td>\n",
       "    </tr>\n",
       "  </tbody>\n",
       "</table>\n",
       "<p>2 rows × 24 columns</p>\n",
       "</div>"
      ],
      "text/plain": [
       "  Customer       State  Customer Lifetime Value Response  Coverage Education  \\\n",
       "0  BU79786  Washington              2763.519279       No     Basic  Bachelor   \n",
       "1  QZ44356     Arizona              6979.535903       No  Extended  Bachelor   \n",
       "\n",
       "  Effective To Date EmploymentStatus Gender  Income     ...       \\\n",
       "0           2/24/11         Employed      F   56274     ...        \n",
       "1           1/31/11       Unemployed      F       0     ...        \n",
       "\n",
       "  Months Since Policy Inception Number of Open Complaints  Number of Policies  \\\n",
       "0                             5                         0                   1   \n",
       "1                            42                         0                   8   \n",
       "\n",
       "      Policy Type        Policy  Renew Offer Type  Sales Channel  \\\n",
       "0  Corporate Auto  Corporate L3            Offer1          Agent   \n",
       "1   Personal Auto   Personal L3            Offer3          Agent   \n",
       "\n",
       "  Total Claim Amount  Vehicle Class Vehicle Size  \n",
       "0         384.811147   Two-Door Car      Medsize  \n",
       "1        1131.464935  Four-Door Car      Medsize  \n",
       "\n",
       "[2 rows x 24 columns]"
      ]
     },
     "execution_count": 5,
     "metadata": {},
     "output_type": "execute_result"
    }
   ],
   "source": [
    "data.head(2)"
   ]
  },
  {
   "cell_type": "code",
   "execution_count": 6,
   "metadata": {},
   "outputs": [
    {
     "data": {
      "text/plain": [
       "(9134, 24)"
      ]
     },
     "execution_count": 6,
     "metadata": {},
     "output_type": "execute_result"
    }
   ],
   "source": [
    "data.shape"
   ]
  },
  {
   "cell_type": "code",
   "execution_count": 7,
   "metadata": {},
   "outputs": [
    {
     "data": {
      "text/plain": [
       "<bound method DataFrame.describe of      Customer       State  Customer Lifetime Value Response  Coverage  \\\n",
       "0     BU79786  Washington              2763.519279       No     Basic   \n",
       "1     QZ44356     Arizona              6979.535903       No  Extended   \n",
       "2     AI49188      Nevada             12887.431650       No   Premium   \n",
       "3     WW63253  California              7645.861827       No     Basic   \n",
       "4     HB64268  Washington              2813.692575       No     Basic   \n",
       "5     OC83172      Oregon              8256.297800      Yes     Basic   \n",
       "6     XZ87318      Oregon              5380.898636      Yes     Basic   \n",
       "7     CF85061     Arizona              7216.100311       No   Premium   \n",
       "8     DY87989      Oregon             24127.504020      Yes     Basic   \n",
       "9     BQ94931      Oregon              7388.178085       No  Extended   \n",
       "10    SX51350  California              4738.992022       No     Basic   \n",
       "11    VQ65197  California              8197.197078       No     Basic   \n",
       "12    DP39365  California              8798.797003       No   Premium   \n",
       "13    SJ95423     Arizona              8819.018934      Yes     Basic   \n",
       "14    IL66569  California              5384.431665       No     Basic   \n",
       "15    BW63560      Oregon              7463.139377       No     Basic   \n",
       "16    FV94802      Nevada              2566.867823       No     Basic   \n",
       "17    OE15005  California              3945.241604       No     Basic   \n",
       "18    WC83389      Oregon              5710.333115       No     Basic   \n",
       "19    FL50705  California              8162.617053       No   Premium   \n",
       "20    ZK25313      Oregon              2872.051273       No     Basic   \n",
       "21    SV62436  Washington              3041.791561       No  Extended   \n",
       "22    YH23384     Arizona             24127.504020      Yes     Basic   \n",
       "23    TZ98966      Nevada              2450.190996       No     Basic   \n",
       "24    HM55802  California              2392.107890       No     Basic   \n",
       "25    FS42516      Oregon              5802.065978       No     Basic   \n",
       "26    US89481  California              3946.372085       No   Premium   \n",
       "27    HO30839  Washington              5346.916576       No  Extended   \n",
       "28    GE62437     Arizona             12902.560140       No   Premium   \n",
       "29    EJ77678      Oregon              3235.360468       No  Extended   \n",
       "...       ...         ...                      ...      ...       ...   \n",
       "9104  LM97847  California              2615.139220       No     Basic   \n",
       "9105  IK96366  California              5551.398167       No  Extended   \n",
       "9106  SJ86522  California              6827.044423       No     Basic   \n",
       "9107  UU42868  California              5619.689084      Yes   Premium   \n",
       "9108  GX11087  California              3907.028747       No     Basic   \n",
       "9109  JR41742  California              3622.872124       No     Basic   \n",
       "9110  RA89822  California             34611.378960      Yes     Basic   \n",
       "9111  IJ25462  California              2845.520933       No     Basic   \n",
       "9112  ZP86347  California              5500.577411       No  Extended   \n",
       "9113  HO82823  California              3358.532935       No  Extended   \n",
       "9114  EA54906  California              7501.661322       No  Extended   \n",
       "9115  BC64697  California             11663.985720       No   Premium   \n",
       "9116  VV68726  California              5133.397765       No     Basic   \n",
       "9117  QR91631  California              8732.090534       No     Basic   \n",
       "9118  OT56964  California              9424.256842       No     Basic   \n",
       "9119  YX35990  California              5479.555081      Yes     Basic   \n",
       "9120  RN61682  California              2114.738469       No     Basic   \n",
       "9121  BB10681  California              4140.648654       No  Extended   \n",
       "9122  FH43628  California             25464.820590      Yes  Extended   \n",
       "9123  WZ45103  California              5678.050167      Yes  Extended   \n",
       "9124  CB59349  California             16261.585500       No  Extended   \n",
       "9125  RX91025  California             19872.262000       No   Premium   \n",
       "9126  AC13887  California              4628.995325       No     Basic   \n",
       "9127  TF56202  California              5032.165498       No     Basic   \n",
       "9128  YM19146  California              4100.398533       No   Premium   \n",
       "9129  LA72316  California             23405.987980       No     Basic   \n",
       "9130  PK87824  California              3096.511217      Yes  Extended   \n",
       "9131  TD14365  California              8163.890428       No  Extended   \n",
       "9132  UP19263  California              7524.442436       No  Extended   \n",
       "9133  Y167826  California              2611.836866       No  Extended   \n",
       "\n",
       "                 Education Effective To Date EmploymentStatus Gender  Income  \\\n",
       "0                 Bachelor           2/24/11         Employed      F   56274   \n",
       "1                 Bachelor           1/31/11       Unemployed      F       0   \n",
       "2                 Bachelor           2/19/11         Employed      F   48767   \n",
       "3                 Bachelor           1/20/11       Unemployed      M       0   \n",
       "4                 Bachelor            2/3/11         Employed      M   43836   \n",
       "5                 Bachelor           1/25/11         Employed      F   62902   \n",
       "6                  College           2/24/11         Employed      F   55350   \n",
       "7                   Master           1/18/11       Unemployed      M       0   \n",
       "8                 Bachelor           1/26/11    Medical Leave      M   14072   \n",
       "9                  College           2/17/11         Employed      F   28812   \n",
       "10                 College           2/21/11       Unemployed      M       0   \n",
       "11                 College            1/6/11       Unemployed      F       0   \n",
       "12                  Master            2/6/11         Employed      M   77026   \n",
       "13    High School or Below           1/10/11         Employed      M   99845   \n",
       "14                 College           1/18/11         Employed      M   83689   \n",
       "15                Bachelor           1/17/11         Employed      F   24599   \n",
       "16    High School or Below            2/6/11    Medical Leave      M   25049   \n",
       "17                 College            1/5/11    Medical Leave      M   28855   \n",
       "18                 College           2/27/11         Employed      M   51148   \n",
       "19    High School or Below           1/14/11         Employed      F   66140   \n",
       "20    High School or Below           2/19/11         Employed      M   57749   \n",
       "21                Bachelor           1/21/11         Disabled      F   13789   \n",
       "22                Bachelor           1/26/11    Medical Leave      M   14072   \n",
       "23                Bachelor           2/24/11       Unemployed      F       0   \n",
       "24                Bachelor            2/5/11         Disabled      F   17870   \n",
       "25                 College           1/29/11         Employed      M   97541   \n",
       "26                Bachelor           2/28/11       Unemployed      F       0   \n",
       "27                  Master           2/12/11         Disabled      F   10511   \n",
       "28                 College            2/2/11         Employed      F   86584   \n",
       "29                  Master            2/7/11         Employed      F   75690   \n",
       "...                    ...               ...              ...    ...     ...   \n",
       "9104               College            1/9/11         Employed      M   57023   \n",
       "9105               College           2/22/11         Employed      M   36918   \n",
       "9106  High School or Below           1/12/11       Unemployed      M       0   \n",
       "9107  High School or Below           1/26/11       Unemployed      M       0   \n",
       "9108  High School or Below           1/28/11       Unemployed      F       0   \n",
       "9109               College           1/25/11       Unemployed      M       0   \n",
       "9110  High School or Below           1/14/11         Employed      F   20090   \n",
       "9111              Bachelor            2/7/11         Employed      M   86631   \n",
       "9112               College           2/12/11         Employed      F   44019   \n",
       "9113              Bachelor            1/6/11         Employed      F   59367   \n",
       "9114  High School or Below           2/23/11         Employed      F   38874   \n",
       "9115               College           2/17/11       Unemployed      F       0   \n",
       "9116  High School or Below           1/26/11         Disabled      F   28647   \n",
       "9117  High School or Below           1/20/11         Employed      F   51205   \n",
       "9118                Master           2/10/11         Employed      M   46897   \n",
       "9119                Master           1/13/11         Employed      M   56005   \n",
       "9120              Bachelor           2/19/11       Unemployed      F       0   \n",
       "9121               College           1/17/11       Unemployed      F       0   \n",
       "9122               College            2/1/11          Retired      F   13663   \n",
       "9123              Bachelor           1/19/11       Unemployed      F       0   \n",
       "9124                Master           1/20/11         Employed      M   60646   \n",
       "9125  High School or Below           1/31/11       Unemployed      M       0   \n",
       "9126              Bachelor            1/9/11       Unemployed      M       0   \n",
       "9127               College           2/12/11         Employed      M   66367   \n",
       "9128               College            1/6/11         Employed      F   47761   \n",
       "9129              Bachelor           2/10/11         Employed      M   71941   \n",
       "9130               College           2/12/11         Employed      F   21604   \n",
       "9131              Bachelor            2/6/11       Unemployed      M       0   \n",
       "9132               College            2/3/11         Employed      M   21941   \n",
       "9133               College           2/14/11       Unemployed      M       0   \n",
       "\n",
       "         ...      Months Since Policy Inception Number of Open Complaints  \\\n",
       "0        ...                                  5                         0   \n",
       "1        ...                                 42                         0   \n",
       "2        ...                                 38                         0   \n",
       "3        ...                                 65                         0   \n",
       "4        ...                                 44                         0   \n",
       "5        ...                                 94                         0   \n",
       "6        ...                                 13                         0   \n",
       "7        ...                                 68                         0   \n",
       "8        ...                                  3                         0   \n",
       "9        ...                                  7                         0   \n",
       "10       ...                                  5                         0   \n",
       "11       ...                                 87                         0   \n",
       "12       ...                                 82                         2   \n",
       "13       ...                                 25                         1   \n",
       "14       ...                                 10                         2   \n",
       "15       ...                                 50                         1   \n",
       "16       ...                                  7                         0   \n",
       "17       ...                                 59                         0   \n",
       "18       ...                                  1                         0   \n",
       "19       ...                                 21                         0   \n",
       "20       ...                                 21                         0   \n",
       "21       ...                                 49                         0   \n",
       "22       ...                                  3                         0   \n",
       "23       ...                                 44                         3   \n",
       "24       ...                                 91                         0   \n",
       "25       ...                                  1                         0   \n",
       "26       ...                                 47                         0   \n",
       "27       ...                                 64                         0   \n",
       "28       ...                                 54                         2   \n",
       "29       ...                                 44                         1   \n",
       "...      ...                                ...                       ...   \n",
       "9104     ...                                 59                         0   \n",
       "9105     ...                                 77                         3   \n",
       "9106     ...                                 26                         0   \n",
       "9107     ...                                  5                         0   \n",
       "9108     ...                                  8                         0   \n",
       "9109     ...                                 52                         0   \n",
       "9110     ...                                 59                         0   \n",
       "9111     ...                                 44                         1   \n",
       "9112     ...                                 60                         0   \n",
       "9113     ...                                 48                         0   \n",
       "9114     ...                                 86                         0   \n",
       "9115     ...                                 34                         0   \n",
       "9116     ...                                 59                         0   \n",
       "9117     ...                                 52                         0   \n",
       "9118     ...                                 11                         0   \n",
       "9119     ...                                 30                         1   \n",
       "9120     ...                                 69                         5   \n",
       "9121     ...                                 35                         2   \n",
       "9122     ...                                 66                         0   \n",
       "9123     ...                                 44                         0   \n",
       "9124     ...                                 42                         0   \n",
       "9125     ...                                 35                         0   \n",
       "9126     ...                                 21                         0   \n",
       "9127     ...                                 48                         0   \n",
       "9128     ...                                 58                         0   \n",
       "9129     ...                                 89                         0   \n",
       "9130     ...                                 28                         0   \n",
       "9131     ...                                 37                         3   \n",
       "9132     ...                                  3                         0   \n",
       "9133     ...                                 90                         0   \n",
       "\n",
       "      Number of Policies     Policy Type        Policy  Renew Offer Type  \\\n",
       "0                      1  Corporate Auto  Corporate L3            Offer1   \n",
       "1                      8   Personal Auto   Personal L3            Offer3   \n",
       "2                      2   Personal Auto   Personal L3            Offer1   \n",
       "3                      7  Corporate Auto  Corporate L2            Offer1   \n",
       "4                      1   Personal Auto   Personal L1            Offer1   \n",
       "5                      2   Personal Auto   Personal L3            Offer2   \n",
       "6                      9  Corporate Auto  Corporate L3            Offer1   \n",
       "7                      4  Corporate Auto  Corporate L3            Offer1   \n",
       "8                      2  Corporate Auto  Corporate L3            Offer1   \n",
       "9                      8    Special Auto    Special L2            Offer2   \n",
       "10                     3   Personal Auto   Personal L3            Offer1   \n",
       "11                     3   Personal Auto   Personal L3            Offer2   \n",
       "12                     3  Corporate Auto  Corporate L1            Offer2   \n",
       "13                     8  Corporate Auto  Corporate L3            Offer2   \n",
       "14                     8  Corporate Auto  Corporate L3            Offer4   \n",
       "15                     2  Corporate Auto  Corporate L2            Offer2   \n",
       "16                     1   Personal Auto   Personal L3            Offer2   \n",
       "17                     1   Personal Auto   Personal L2            Offer3   \n",
       "18                     7   Personal Auto   Personal L2            Offer2   \n",
       "19                     3  Corporate Auto  Corporate L2            Offer1   \n",
       "20                     1   Personal Auto   Personal L2            Offer1   \n",
       "21                     1   Personal Auto   Personal L3            Offer4   \n",
       "22                     2   Personal Auto   Personal L3            Offer1   \n",
       "23                     1  Corporate Auto  Corporate L3            Offer1   \n",
       "24                     1  Corporate Auto  Corporate L2            Offer2   \n",
       "25                     3   Personal Auto   Personal L3            Offer2   \n",
       "26                     1   Personal Auto   Personal L3            Offer1   \n",
       "27                     1  Corporate Auto  Corporate L1            Offer1   \n",
       "28                     2   Personal Auto   Personal L3            Offer1   \n",
       "29                     1   Personal Auto   Personal L3            Offer2   \n",
       "...                  ...             ...           ...               ...   \n",
       "9104                   1   Personal Auto   Personal L2            Offer2   \n",
       "9105                   3   Personal Auto   Personal L1            Offer1   \n",
       "9106                   9  Corporate Auto  Corporate L3            Offer2   \n",
       "9107                   1  Corporate Auto  Corporate L2            Offer2   \n",
       "9108                   1   Personal Auto   Personal L2            Offer1   \n",
       "9109                   1  Corporate Auto  Corporate L3            Offer1   \n",
       "9110                   2   Personal Auto   Personal L2            Offer2   \n",
       "9111                   1   Personal Auto   Personal L2            Offer3   \n",
       "9112                   1   Personal Auto   Personal L3            Offer3   \n",
       "9113                   1   Personal Auto   Personal L3            Offer2   \n",
       "9114                   3  Corporate Auto  Corporate L1            Offer2   \n",
       "9115                   2   Personal Auto   Personal L3            Offer3   \n",
       "9116                   3   Personal Auto   Personal L2            Offer1   \n",
       "9117                   2   Personal Auto   Personal L1            Offer2   \n",
       "9118                   3  Corporate Auto  Corporate L3            Offer1   \n",
       "9119                   3  Corporate Auto  Corporate L2            Offer1   \n",
       "9120                   1   Personal Auto   Personal L2            Offer3   \n",
       "9121                   1  Corporate Auto  Corporate L3            Offer1   \n",
       "9122                   2   Personal Auto   Personal L2            Offer1   \n",
       "9123                   3   Personal Auto   Personal L2            Offer2   \n",
       "9124                   2   Personal Auto   Personal L3            Offer2   \n",
       "9125                   2   Personal Auto   Personal L3            Offer1   \n",
       "9126                   4  Corporate Auto  Corporate L1            Offer1   \n",
       "9127                   3   Personal Auto   Personal L3            Offer2   \n",
       "9128                   1   Personal Auto   Personal L2            Offer1   \n",
       "9129                   2   Personal Auto   Personal L1            Offer2   \n",
       "9130                   1  Corporate Auto  Corporate L3            Offer1   \n",
       "9131                   2  Corporate Auto  Corporate L2            Offer1   \n",
       "9132                   3   Personal Auto   Personal L2            Offer3   \n",
       "9133                   1  Corporate Auto  Corporate L3            Offer4   \n",
       "\n",
       "      Sales Channel Total Claim Amount  Vehicle Class Vehicle Size  \n",
       "0             Agent         384.811147   Two-Door Car      Medsize  \n",
       "1             Agent        1131.464935  Four-Door Car      Medsize  \n",
       "2             Agent         566.472247   Two-Door Car      Medsize  \n",
       "3       Call Center         529.881344            SUV      Medsize  \n",
       "4             Agent         138.130879  Four-Door Car      Medsize  \n",
       "5               Web         159.383042   Two-Door Car      Medsize  \n",
       "6             Agent         321.600000  Four-Door Car      Medsize  \n",
       "7             Agent         363.029680  Four-Door Car      Medsize  \n",
       "8             Agent         511.200000  Four-Door Car      Medsize  \n",
       "9            Branch         425.527834  Four-Door Car      Medsize  \n",
       "10            Agent         482.400000  Four-Door Car        Small  \n",
       "11            Agent         528.000000            SUV      Medsize  \n",
       "12            Agent         472.029737  Four-Door Car      Medsize  \n",
       "13           Branch         528.000000            SUV      Medsize  \n",
       "14      Call Center         307.139132  Four-Door Car      Medsize  \n",
       "15           Branch          42.920271  Four-Door Car      Medsize  \n",
       "16      Call Center         454.245098   Two-Door Car      Medsize  \n",
       "17      Call Center         647.442031            SUV      Medsize  \n",
       "18           Branch         308.981664  Four-Door Car      Medsize  \n",
       "19      Call Center         484.800000  Four-Door Car        Small  \n",
       "20           Branch         355.200000   Two-Door Car      Medsize  \n",
       "21      Call Center         379.200000  Four-Door Car      Medsize  \n",
       "22            Agent         511.200000  Four-Door Car      Medsize  \n",
       "23           Branch         554.376763  Four-Door Car      Medsize  \n",
       "24           Branch         439.200000  Four-Door Car      Medsize  \n",
       "25      Call Center         389.185006  Four-Door Car        Large  \n",
       "26            Agent         799.200000  Four-Door Car        Small  \n",
       "27           Branch         516.237951            SUV      Medsize  \n",
       "28      Call Center         532.800000  Four-Door Car        Large  \n",
       "29           Branch         384.000000  Four-Door Car        Small  \n",
       "...             ...                ...            ...          ...  \n",
       "9104          Agent         250.652309  Four-Door Car      Medsize  \n",
       "9105         Branch         364.800000   Two-Door Car      Medsize  \n",
       "9106          Agent         956.689634            SUV      Medsize  \n",
       "9107            Web        1027.000029            SUV      Medsize  \n",
       "9108          Agent         666.042098            SUV      Medsize  \n",
       "9109         Branch        1254.177129            SUV      Medsize  \n",
       "9110          Agent         523.200000     Sports Car      Medsize  \n",
       "9111          Agent         400.832857  Four-Door Car        Small  \n",
       "9112          Agent         165.478147            SUV      Medsize  \n",
       "9113          Agent           6.880385  Four-Door Car      Medsize  \n",
       "9114         Branch         331.170924  Four-Door Car      Medsize  \n",
       "9115    Call Center         513.600000  Four-Door Car        Small  \n",
       "9116          Agent         331.200000  Four-Door Car        Small  \n",
       "9117         Branch         185.530076   Two-Door Car      Medsize  \n",
       "9118          Agent         322.575677            SUV      Medsize  \n",
       "9119         Branch         326.400000  Four-Door Car        Small  \n",
       "9120            Web         518.400000  Four-Door Car      Medsize  \n",
       "9121         Branch         590.400000            SUV      Medsize  \n",
       "9122         Branch         465.600000  Four-Door Car        Small  \n",
       "9123          Agent         364.800000  Four-Door Car        Small  \n",
       "9124          Agent         643.200000            SUV      Medsize  \n",
       "9125          Agent        1950.725547            SUV        Small  \n",
       "9126         Branch         482.400000   Two-Door Car      Medsize  \n",
       "9127    Call Center         307.200000   Two-Door Car        Small  \n",
       "9128         Branch         541.282007  Four-Door Car        Large  \n",
       "9129            Web         198.234764  Four-Door Car      Medsize  \n",
       "9130         Branch         379.200000  Four-Door Car      Medsize  \n",
       "9131         Branch         790.784983  Four-Door Car      Medsize  \n",
       "9132         Branch         691.200000  Four-Door Car        Large  \n",
       "9133    Call Center         369.600000   Two-Door Car      Medsize  \n",
       "\n",
       "[9134 rows x 24 columns]>"
      ]
     },
     "execution_count": 7,
     "metadata": {},
     "output_type": "execute_result"
    }
   ],
   "source": [
    "data.describe"
   ]
  },
  {
   "cell_type": "code",
   "execution_count": 8,
   "metadata": {},
   "outputs": [
    {
     "data": {
      "text/plain": [
       "array(['Customer', 'State', 'Customer Lifetime Value', 'Response',\n",
       "       'Coverage', 'Education', 'Effective To Date', 'EmploymentStatus',\n",
       "       'Gender', 'Income', 'Location Code', 'Marital Status',\n",
       "       'Monthly Premium Auto', 'Months Since Last Claim',\n",
       "       'Months Since Policy Inception', 'Number of Open Complaints',\n",
       "       'Number of Policies', 'Policy Type', 'Policy', 'Renew Offer Type',\n",
       "       'Sales Channel', 'Total Claim Amount', 'Vehicle Class',\n",
       "       'Vehicle Size'], dtype=object)"
      ]
     },
     "execution_count": 8,
     "metadata": {},
     "output_type": "execute_result"
    }
   ],
   "source": [
    "data.columns.values"
   ]
  },
  {
   "cell_type": "code",
   "execution_count": 9,
   "metadata": {},
   "outputs": [
    {
     "data": {
      "text/plain": [
       "California    3150\n",
       "Oregon        2601\n",
       "Arizona       1703\n",
       "Nevada         882\n",
       "Washington     798\n",
       "Name: State, dtype: int64"
      ]
     },
     "execution_count": 9,
     "metadata": {},
     "output_type": "execute_result"
    }
   ],
   "source": [
    "pd.value_counts(data['State'])"
   ]
  },
  {
   "cell_type": "code",
   "execution_count": 10,
   "metadata": {},
   "outputs": [
    {
     "data": {
      "text/plain": [
       "Bachelor                2748\n",
       "College                 2681\n",
       "High School or Below    2622\n",
       "Master                   741\n",
       "Doctor                   342\n",
       "Name: Education, dtype: int64"
      ]
     },
     "execution_count": 10,
     "metadata": {},
     "output_type": "execute_result"
    }
   ],
   "source": [
    "pd.value_counts(data['Education'])"
   ]
  },
  {
   "cell_type": "code",
   "execution_count": 11,
   "metadata": {},
   "outputs": [
    {
     "data": {
      "text/plain": [
       "Employed         5698\n",
       "Unemployed       2317\n",
       "Medical Leave     432\n",
       "Disabled          405\n",
       "Retired           282\n",
       "Name: EmploymentStatus, dtype: int64"
      ]
     },
     "execution_count": 11,
     "metadata": {},
     "output_type": "execute_result"
    }
   ],
   "source": [
    "pd.value_counts(data['EmploymentStatus'])"
   ]
  },
  {
   "cell_type": "code",
   "execution_count": 12,
   "metadata": {},
   "outputs": [
    {
     "data": {
      "text/plain": [
       "F    4658\n",
       "M    4476\n",
       "Name: Gender, dtype: int64"
      ]
     },
     "execution_count": 12,
     "metadata": {},
     "output_type": "execute_result"
    }
   ],
   "source": [
    "pd.value_counts(data['Gender'])"
   ]
  },
  {
   "cell_type": "code",
   "execution_count": 13,
   "metadata": {},
   "outputs": [
    {
     "data": {
      "image/png": "[encoded data removed]",
      "text/plain": [
       "<Figure size 432x288 with 1 Axes>"
      ]
     },
     "metadata": {},
     "output_type": "display_data"
    }
   ],
   "source": [
    "x = data.Education\n",
    "y = data.EmploymentStatus\n",
    "plt.scatter(x, y)\n",
    "plt.show()\n",
    "\n"
   ]
  },
  {
   "cell_type": "code",
   "execution_count": 16,
   "metadata": {},
   "outputs": [
    {
     "name": "stdout",
     "output_type": "stream",
     "text": [
      "('Gender', 9134)\n"
     ]
    }
   ],
   "source": [
    "print('Gender',data['Gender'].count())"
   ]
  },
  {
   "cell_type": "code",
   "execution_count": 17,
   "metadata": {},
   "outputs": [
    {
     "data": {
      "text/plain": [
       "Customer                         9134\n",
       "State                            9134\n",
       "Customer Lifetime Value          9134\n",
       "Response                         9134\n",
       "Coverage                         9134\n",
       "Education                        9134\n",
       "Effective To Date                9134\n",
       "EmploymentStatus                 9134\n",
       "Gender                           9134\n",
       "Income                           9134\n",
       "Location Code                    9134\n",
       "Marital Status                   9134\n",
       "Monthly Premium Auto             9134\n",
       "Months Since Last Claim          9134\n",
       "Months Since Policy Inception    9134\n",
       "Number of Open Complaints        9134\n",
       "Number of Policies               9134\n",
       "Policy Type                      9134\n",
       "Policy                           9134\n",
       "Renew Offer Type                 9134\n",
       "Sales Channel                    9134\n",
       "Total Claim Amount               9134\n",
       "Vehicle Class                    9134\n",
       "Vehicle Size                     9134\n",
       "dtype: int64"
      ]
     },
     "execution_count": 17,
     "metadata": {},
     "output_type": "execute_result"
    }
   ],
   "source": [
    "data.count()"
   ]
  },
  {
   "cell_type": "code",
   "execution_count": 19,
   "metadata": {},
   "outputs": [
    {
     "data": {
      "text/html": [
       "<div>\n",
       "<style scoped>\n",
       "    .dataframe tbody tr th:only-of-type {\n",
       "        vertical-align: middle;\n",
       "    }\n",
       "\n",
       "    .dataframe tbody tr th {\n",
       "        vertical-align: top;\n",
       "    }\n",
       "\n",
       "    .dataframe thead th {\n",
       "        text-align: right;\n",
       "    }\n",
       "</style>\n",
       "<table border=\"1\" class=\"dataframe\">\n",
       "  <thead>\n",
       "    <tr style=\"text-align: right;\">\n",
       "      <th></th>\n",
       "      <th>Customer</th>\n",
       "      <th>State</th>\n",
       "      <th>Customer Lifetime Value</th>\n",
       "      <th>Response</th>\n",
       "      <th>Coverage</th>\n",
       "      <th>Education</th>\n",
       "      <th>Effective To Date</th>\n",
       "      <th>EmploymentStatus</th>\n",
       "      <th>Gender</th>\n",
       "      <th>Income</th>\n",
       "      <th>...</th>\n",
       "      <th>Months Since Policy Inception</th>\n",
       "      <th>Number of Open Complaints</th>\n",
       "      <th>Number of Policies</th>\n",
       "      <th>Policy Type</th>\n",
       "      <th>Policy</th>\n",
       "      <th>Renew Offer Type</th>\n",
       "      <th>Sales Channel</th>\n",
       "      <th>Total Claim Amount</th>\n",
       "      <th>Vehicle Class</th>\n",
       "      <th>Vehicle Size</th>\n",
       "    </tr>\n",
       "  </thead>\n",
       "  <tbody>\n",
       "  </tbody>\n",
       "</table>\n",
       "<p>0 rows × 24 columns</p>\n",
       "</div>"
      ],
      "text/plain": [
       "Empty DataFrame\n",
       "Columns: [Customer, State, Customer Lifetime Value, Response, Coverage, Education, Effective To Date, EmploymentStatus, Gender, Income, Location Code, Marital Status, Monthly Premium Auto, Months Since Last Claim, Months Since Policy Inception, Number of Open Complaints, Number of Policies, Policy Type, Policy, Renew Offer Type, Sales Channel, Total Claim Amount, Vehicle Class, Vehicle Size]\n",
       "Index: []\n",
       "\n",
       "[0 rows x 24 columns]"
      ]
     },
     "execution_count": 19,
     "metadata": {},
     "output_type": "execute_result"
    }
   ],
   "source": [
    "data[data['Gender'].isnull()].head(2)"
   ]
  },
  {
   "cell_type": "code",
   "execution_count": 23,
   "metadata": {},
   "outputs": [
    {
     "data": {
      "image/png": "[encoded data removed]",
      "text/plain": [
       "<Figure size 432x288 with 1 Axes>"
      ]
     },
     "metadata": {},
     "output_type": "display_data"
    }
   ],
   "source": [
    "state_count = data['State'].value_counts()\n",
    "sns.set(style=\"darkgrid\")\n",
    "sns.barplot(state_count.index , state_count.values, alpha= 0.9)\n",
    "plt.title(\"Frequency Distribution of States\")\n",
    "plt.ylabel('Number of Occurrences', fontsize = 12)\n",
    "plt.xlabel('States', fontsize=12)\n",
    "plt.show()"
   ]
  },
  {
   "cell_type": "code",
   "execution_count": 24,
   "metadata": {},
   "outputs": [
    {
     "data": {
      "image/png": "[encoded data removed]",
      "text/plain": [
       "<Figure size 432x288 with 1 Axes>"
      ]
     },
     "metadata": {},
     "output_type": "display_data"
    }
   ],
   "source": [
    "state_count = data['Education'].value_counts()\n",
    "sns.set(style=\"darkgrid\")\n",
    "sns.barplot(state_count.index , state_count.values, alpha= 0.9)\n",
    "plt.title(\"Frequency Distribution of Education\")\n",
    "plt.ylabel('Number of Occurrences', fontsize = 12)\n",
    "plt.xlabel('Nivel education', fontsize=12)\n",
    "plt.show()"
   ]
  },
  {
   "cell_type": "code",
   "execution_count": 25,
   "metadata": {},
   "outputs": [
    {
     "data": {
      "image/png": "[encoded data removed]",
      "text/plain": [
       "<Figure size 432x288 with 1 Axes>"
      ]
     },
     "metadata": {},
     "output_type": "display_data"
    }
   ],
   "source": [
    "state_count = data['EmploymentStatus'].value_counts()\n",
    "sns.set(style=\"darkgrid\")\n",
    "sns.barplot(state_count.index , state_count.values, alpha= 0.9)\n",
    "plt.title(\"Frequency Distribution of Employment Status\")\n",
    "plt.ylabel('Number of Occurrences', fontsize = 12)\n",
    "plt.xlabel('Employment Status', fontsize=12)\n",
    "plt.show()"
   ]
  },
  {
   "cell_type": "code",
   "execution_count": 26,
   "metadata": {},
   "outputs": [
    {
     "data": {
      "image/png": "[encoded data removed]",
      "text/plain": [
       "<Figure size 432x288 with 1 Axes>"
      ]
     },
     "metadata": {},
     "output_type": "display_data"
    }
   ],
   "source": [
    "state_count = data['Gender'].value_counts()\n",
    "sns.set(style=\"darkgrid\")\n",
    "sns.barplot(state_count.index , state_count.values, alpha= 0.9)\n",
    "plt.title(\"Frequency Distribution of Gender\")\n",
    "plt.ylabel('Number of Occurrences', fontsize = 12)\n",
    "plt.xlabel('Gender', fontsize=12)\n",
    "plt.show()"
   ]
  },
  {
   "cell_type": "code",
   "execution_count": 27,
   "metadata": {},
   "outputs": [
    {
     "data": {
      "image/png": "[encoded data removed]",
      "text/plain": [
       "<Figure size 432x288 with 1 Axes>"
      ]
     },
     "metadata": {},
     "output_type": "display_data"
    }
   ],
   "source": [
    "state_count = data['Marital Status'].value_counts()\n",
    "sns.set(style=\"darkgrid\")\n",
    "sns.barplot(state_count.index , state_count.values, alpha= 0.9)\n",
    "plt.title(\"Frequency Distribution of Marital Status\")\n",
    "plt.ylabel('Number of Occurrences', fontsize = 12)\n",
    "plt.xlabel('Marital Status', fontsize=12)\n",
    "plt.show()"
   ]
  },
  {
   "cell_type": "code",
   "execution_count": null,
   "metadata": {},
   "outputs": [],
   "source": []
  }
 ],
 "metadata": {
  "kernelspec": {
   "display_name": "Python 2",
   "language": "python",
   "name": "python2"
  },
  "language_info": {
   "codemirror_mode": {
    "name": "ipython",
    "version": 2
   },
   "file_extension": ".py",
   "mimetype": "text/x-python",
   "name": "python",
   "nbconvert_exporter": "python",
   "pygments_lexer": "ipython2",
   "version": "2.7.15"
  }
 },
 "nbformat": 4,
 "nbformat_minor": 2
}
